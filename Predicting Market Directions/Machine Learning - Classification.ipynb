{
 "cells": [
  {
   "cell_type": "markdown",
   "metadata": {},
   "source": [
    "# Machine Learning - Classification"
   ]
  },
  {
   "cell_type": "markdown",
   "metadata": {},
   "source": [
    "## Setup and Loading Packages"
   ]
  },
  {
   "cell_type": "code",
   "execution_count": 1,
   "metadata": {
    "ExecuteTime": {
     "end_time": "2021-04-16T00:08:32.172640Z",
     "start_time": "2021-04-16T00:08:31.635143Z"
    }
   },
   "outputs": [],
   "source": [
    "# Import relevant packages\n",
    "import numpy as np\n",
    "import pandas as pd\n",
    "import yfinance as yf\n",
    "\n",
    "import matplotlib.pyplot as plt\n",
    "\n",
    "from sklearn.model_selection import train_test_split\n",
    "from sklearn.metrics import mean_absolute_error, mean_squared_error, r2_score\n",
    "from sklearn.metrics import confusion_matrix, ConfusionMatrixDisplay\n",
    "\n",
    "from sklearn.linear_model import LogisticRegression\n",
    "import statsmodels.api as sm"
   ]
  },
  {
   "cell_type": "markdown",
   "metadata": {},
   "source": [
    "## Predicting Market Directions with Logistic Regression"
   ]
  },
  {
   "cell_type": "markdown",
   "metadata": {},
   "source": [
    "We compiled a list of features for building our linear model for predicting the performance of a the Russell 2000 ETF (Ticker: IWM). These features include ETFs considering Environmental, Social and Governance (ESG) factorsm along with some economic indicatiors.\n",
    "\n",
    "<b>Technology Breakthrough:</b>\n",
    "<ul>\n",
    "  <li>IBLC</li>\n",
    "  <li>IRBO</li>\n",
    "  <li>IHAK</li>\n",
    "</ul>\n",
    "<b>Social Change:</b>\n",
    "<ul>\n",
    "  <li>IDNA</li>\n",
    "  <li>IWFH</li>\n",
    "  <li>BMED</li>\n",
    "</ul>\n",
    "<b>Urbanization:</b>\n",
    "<ul>\n",
    "  <li>IFRA</li>\n",
    "  <li>IGF</li>\n",
    "  <li>EMIF</li>\n",
    "</ul>\n",
    "<b>Climate Change:</b>\n",
    "<ul>\n",
    "  <li>ICLN</li>\n",
    "  <li>IDRV</li>\n",
    "  <li>IVEG</li>\n",
    "</ul>\n",
    "<b>Global Wealth:</b>\n",
    "<ul>\n",
    "  <li>CNYA</li>\n",
    "</ul>\n",
    "<b>Economic Indicators:</b>\n",
    "<ul>\n",
    "  <li>volatility_index</li>\n",
    "  <li>option_adjusted_spread</li>\n",
    "  <li>inflation_rate</li>\n",
    "</ul>\n",
    "\n",
    "\n",
    "<p style=\"color:red;\"> After processing the data (e.g., removing outliers, missing values, unimportant features), we end up having just 2 features in our dataset - BMED and IVEG log returns. So let's take the shortcut and pull in data for just these two assets.</p>"
   ]
  },
  {
   "cell_type": "code",
   "execution_count": 2,
   "metadata": {},
   "outputs": [],
   "source": [
    "ETF_TICKERS = ['BMED', 'IVEG', 'IWM'] # Enter the ETF ticker symbols here\n",
    "START_DATE = '2022-06-01' # ETF data start date\n",
    "END_DATE = '2023-06-01' # ETF data end date"
   ]
  },
  {
   "cell_type": "code",
   "execution_count": 3,
   "metadata": {},
   "outputs": [
    {
     "name": "stdout",
     "output_type": "stream",
     "text": [
      "[*********************100%***********************]  14 of 14 completed\n"
     ]
    }
   ],
   "source": [
    "etfPxList = yf.download(ETF_TICKERS, START_DATE, END_DATE)['Adj Close'] # Retrieve ETF adjusted close price data from yahoo finance\n",
    "DATA = np.log(etfPxList).diff().dropna() # Calculate log returns and drop null values"
   ]
  },
  {
   "cell_type": "markdown",
   "metadata": {},
   "source": [
    "### Transformation into a Classification Problem"
   ]
  },
  {
   "cell_type": "markdown",
   "metadata": {},
   "source": [
    "We can also transform this into a classification problem. All we have to do is just to convert the IWM log returns into binary values, 0 represents a day with negative return (downward direction) and 1 represents a day with positive return (upward direction). So the problem now becomes using the BMED and IVEG daily log return values to predict IWM daily log return directions."
   ]
  },
  {
   "cell_type": "code",
   "execution_count": 284,
   "metadata": {},
   "outputs": [
    {
     "data": {
      "text/html": [
       "<div>\n",
       "<style scoped>\n",
       "    .dataframe tbody tr th:only-of-type {\n",
       "        vertical-align: middle;\n",
       "    }\n",
       "\n",
       "    .dataframe tbody tr th {\n",
       "        vertical-align: top;\n",
       "    }\n",
       "\n",
       "    .dataframe thead th {\n",
       "        text-align: right;\n",
       "    }\n",
       "</style>\n",
       "<table border=\"1\" class=\"dataframe\">\n",
       "  <thead>\n",
       "    <tr style=\"text-align: right;\">\n",
       "      <th></th>\n",
       "      <th>BMED</th>\n",
       "      <th>IVEG</th>\n",
       "      <th>IWM</th>\n",
       "    </tr>\n",
       "  </thead>\n",
       "  <tbody>\n",
       "    <tr>\n",
       "      <th>2022-06-02</th>\n",
       "      <td>1.519343</td>\n",
       "      <td>1.553735</td>\n",
       "      <td>1</td>\n",
       "    </tr>\n",
       "    <tr>\n",
       "      <th>2022-06-03</th>\n",
       "      <td>-0.709552</td>\n",
       "      <td>-0.918115</td>\n",
       "      <td>0</td>\n",
       "    </tr>\n",
       "    <tr>\n",
       "      <th>2022-06-06</th>\n",
       "      <td>-0.212229</td>\n",
       "      <td>0.228417</td>\n",
       "      <td>1</td>\n",
       "    </tr>\n",
       "    <tr>\n",
       "      <th>2022-06-07</th>\n",
       "      <td>1.059938</td>\n",
       "      <td>0.144687</td>\n",
       "      <td>1</td>\n",
       "    </tr>\n",
       "    <tr>\n",
       "      <th>2022-06-08</th>\n",
       "      <td>-0.339705</td>\n",
       "      <td>-1.122713</td>\n",
       "      <td>0</td>\n",
       "    </tr>\n",
       "  </tbody>\n",
       "</table>\n",
       "</div>"
      ],
      "text/plain": [
       "                BMED      IVEG  IWM\n",
       "2022-06-02  1.519343  1.553735    1\n",
       "2022-06-03 -0.709552 -0.918115    0\n",
       "2022-06-06 -0.212229  0.228417    1\n",
       "2022-06-07  1.059938  0.144687    1\n",
       "2022-06-08 -0.339705 -1.122713    0"
      ]
     },
     "execution_count": 284,
     "metadata": {},
     "output_type": "execute_result"
    }
   ],
   "source": [
    "DATA.IWM = (DATA.IWM > 0).astype(int) # Convert IWM log returns into binary values 1's and 0's in original data\n",
    "DATA.head() # View the transformed data"
   ]
  },
  {
   "cell_type": "markdown",
   "metadata": {},
   "source": [
    "### Fitting Logistic Regression Model"
   ]
  },
  {
   "cell_type": "code",
   "execution_count": 290,
   "metadata": {},
   "outputs": [],
   "source": [
    "logistic_model = LogisticRegression() # Declare logistic regression model\n",
    "\n",
    "RESPONSE = 'IWM' # Response variable\n",
    "FEATURES = ['BMED', 'IVEG'] # Explanatory variable\n",
    "# Split data into 80% training and 20% testing\n",
    "X_train, X_test, y_train, y_test = train_test_split(DATA.loc[:, FEATURES], DATA.loc[:, RESPONSE], test_size=0.2, random_state=0)\n",
    "\n",
    "\n",
    "logistic_model = logistic_model.fit(X_train, y_train) # Fit logistic regression model\n",
    "lr_probs = logistic_model.predict_proba(X_test) # Calculate the probabilities of achieving each class in the testing data\n",
    "y_test_pred_logistic = logistic_model.predict(X_test) # Predict the class labels in the testing data"
   ]
  },
  {
   "cell_type": "markdown",
   "metadata": {},
   "source": [
    "Let's produce the confusion matrix."
   ]
  },
  {
   "cell_type": "code",
   "execution_count": 298,
   "metadata": {},
   "outputs": [
    {
     "data": {
      "text/plain": [
       "Text(0.5, 1.0, 'Confusion Matrix')"
      ]
     },
     "execution_count": 298,
     "metadata": {},
     "output_type": "execute_result"
    },
    {
     "data": {
      "image/png": "[encoded data removed]",
      "text/plain": [
       "<Figure size 640x480 with 2 Axes>"
      ]
     },
     "metadata": {},
     "output_type": "display_data"
    }
   ],
   "source": [
    "cm_logistic = confusion_matrix(y_test, y_test_pred_logistic, labels=logistic_model.classes_) # Compute counts for the confusion matrix\n",
    "ConfusionMatrixDisplay(confusion_matrix=cm_logistic, display_labels=logistic_model.classes_).plot() # Display counts for the confusion matrix\n",
    "plt.title(\"Confusion Matrix\") # Label title"
   ]
  },
  {
   "cell_type": "markdown",
   "metadata": {},
   "source": [
    "Let's compute both training and testing accuracies."
   ]
  },
  {
   "cell_type": "code",
   "execution_count": 300,
   "metadata": {},
   "outputs": [
    {
     "name": "stdout",
     "output_type": "stream",
     "text": [
      "training accuracy score: 0.9157894736842105\n",
      "testing accuracy score: 0.875\n"
     ]
    }
   ],
   "source": [
    "print('training accuracy score:', logistic_model.score(X_train,y_train)) # Print training accuracy score\n",
    "print('testing accuracy score:', logistic_model.score(X_test,y_test)) # Print testing accuracy score"
   ]
  }
 ],
 "metadata": {
  "kernelspec": {
   "display_name": "Python 3 (ipykernel)",
   "language": "python",
   "name": "python3"
  },
  "language_info": {
   "codemirror_mode": {
    "name": "ipython",
    "version": 3
   },
   "file_extension": ".py",
   "mimetype": "text/x-python",
   "name": "python",
   "nbconvert_exporter": "python",
   "pygments_lexer": "ipython3",
   "version": "3.10.9"
  },
  "toc": {
   "base_numbering": 1,
   "nav_menu": {},
   "number_sections": true,
   "sideBar": true,
   "skip_h1_title": true,
   "title_cell": "Table of Contents",
   "title_sidebar": "Contents",
   "toc_cell": false,
   "toc_position": {},
   "toc_section_display": true,
   "toc_window_display": true
  }
 },
 "nbformat": 4,
 "nbformat_minor": 2
}
