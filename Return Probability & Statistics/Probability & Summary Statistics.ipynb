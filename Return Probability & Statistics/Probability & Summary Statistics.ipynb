{
 "cells": [
  {
   "cell_type": "markdown",
   "metadata": {},
   "source": [
    "# Probability & Summary Statistics"
   ]
  },
  {
   "cell_type": "markdown",
   "metadata": {},
   "source": [
    "## Setup and Loading Packages"
   ]
  },
  {
   "cell_type": "code",
   "execution_count": 20,
   "metadata": {
    "ExecuteTime": {
     "end_time": "2021-04-16T00:08:32.172640Z",
     "start_time": "2021-04-16T00:08:31.635143Z"
    }
   },
   "outputs": [],
   "source": [
    "# Import relevant packages\n",
    "import yfinance as yf\n",
    "import numpy as np\n",
    "import pandas as pd\n",
    "from matplotlib import pyplot as plt\n",
    "import scipy.stats as stats\n",
    "from datetime import datetime, timedelta"
   ]
  },
  {
   "cell_type": "markdown",
   "metadata": {},
   "source": [
    "Specifying stock ticker, start date, and end date. In our example, the stock is Apple (Ticker: AAPL)."
   ]
  },
  {
   "cell_type": "code",
   "execution_count": 21,
   "metadata": {},
   "outputs": [],
   "source": [
    "TICKER = 'AAPL' # Stock Ticker symbol\n",
    "START_DATE = '2014-06-01' # Stock data start date\n",
    "END_DATE = '2024-06-01' # Stock data end date"
   ]
  },
  {
   "cell_type": "markdown",
   "metadata": {},
   "source": [
    "Extracting ajusted close prices of Apple's stock from Yahoo Finance."
   ]
  },
  {
   "cell_type": "code",
   "execution_count": 22,
   "metadata": {},
   "outputs": [
    {
     "name": "stdout",
     "output_type": "stream",
     "text": [
      "[*********************100%***********************]  1 of 1 completed\n"
     ]
    }
   ],
   "source": [
    "stockPx = yf.download(TICKER, START_DATE, END_DATE)['Adj Close'] # Retrieve adjusted close price data from yahoo finance\n",
    "stockLogRet = np.log(stockPx).diff().dropna() # Calculate log returns and drop null values"
   ]
  },
  {
   "cell_type": "markdown",
   "metadata": {},
   "source": [
    "## Probability Distribution Function (pdf)"
   ]
  },
  {
   "cell_type": "markdown",
   "metadata": {},
   "source": [
    "In short, pdf is just a random function that inputs a potential outcome and outputs the probability of achieving that outcome. Here, we use our sample mean and standard deviation as parameters for our theoretical pdf. "
   ]
  },
  {
   "cell_type": "code",
   "execution_count": 23,
   "metadata": {},
   "outputs": [
    {
     "data": {
      "text/plain": [
       "Text(0, 0.5, 'Density')"
      ]
     },
     "execution_count": 23,
     "metadata": {},
     "output_type": "execute_result"
    },
    {
     "data": {
      "image/png": "[encoded data removed]",
      "text/plain": [
       "<Figure size 640x480 with 1 Axes>"
      ]
     },
     "metadata": {},
     "output_type": "display_data"
    }
   ],
   "source": [
    "_, bins, _= plt.hist(stockLogRet, bins=50, density=1, alpha=0.5) # Plot histogram\n",
    "# Specify Normal distriubtion parameters: mu= mean, sigma= standard deviation\n",
    "mu, sigma = stats.norm.fit(stockLogRet)\n",
    "pdf = ((1 / (np.sqrt(2 * np.pi) * sigma)) * np.exp(-0.5 * (1 / sigma * (bins - mu))**2)) # Normal pdf formula\n",
    "plt.plot(bins, pdf) # Plot the Normal pdf\n",
    "plt.title(\"A Normal pdf Trace of \" + TICKER + \"'s Stock Log Return\") # Label title\n",
    "plt.xlabel(\"Log Return\"); plt.ylabel(\"Density\") # Label x-axis"
   ]
  },
  {
   "cell_type": "markdown",
   "metadata": {},
   "source": [
    "## Summary Statistics"
   ]
  },
  {
   "cell_type": "code",
   "execution_count": 24,
   "metadata": {},
   "outputs": [],
   "source": [
    "PAIR = ['ADBE','CMG'] # Enter the two ticker symbols here\n",
    "TAU = 5         # Enter the lookback period of your data"
   ]
  },
  {
   "cell_type": "code",
   "execution_count": 25,
   "metadata": {},
   "outputs": [
    {
     "name": "stdout",
     "output_type": "stream",
     "text": [
      "[*********************100%***********************]  2 of 2 completed\n"
     ]
    }
   ],
   "source": [
    "START_DATE = (datetime.today() - timedelta(days = TAU * 365)).strftime('%Y-%m-%d') # Data start date\n",
    "END_DATE = datetime.today().strftime('%Y-%m-%d') # Data end date\n",
    "stockPxPair = yf.download(PAIR, START_DATE, END_DATE)['Adj Close'] # Retrieve adjusted close price data from yahoo finance\n",
    "stockLogRetPair = np.log(stockPxPair).diff().dropna() # Calculate log returns and drop null values"
   ]
  },
  {
   "cell_type": "markdown",
   "metadata": {},
   "source": [
    "ADBE vs CMG's daily log returns summary statistics "
   ]
  },
  {
   "cell_type": "code",
   "execution_count": 26,
   "metadata": {},
   "outputs": [
    {
     "data": {
      "text/html": [
       "<div>\n",
       "<style scoped>\n",
       "    .dataframe tbody tr th:only-of-type {\n",
       "        vertical-align: middle;\n",
       "    }\n",
       "\n",
       "    .dataframe tbody tr th {\n",
       "        vertical-align: top;\n",
       "    }\n",
       "\n",
       "    .dataframe thead th {\n",
       "        text-align: right;\n",
       "    }\n",
       "</style>\n",
       "<table border=\"1\" class=\"dataframe\">\n",
       "  <thead>\n",
       "    <tr style=\"text-align: right;\">\n",
       "      <th></th>\n",
       "      <th>mean</th>\n",
       "      <th>sd</th>\n",
       "      <th>skewness</th>\n",
       "      <th>excess kurtosis</th>\n",
       "    </tr>\n",
       "  </thead>\n",
       "  <tbody>\n",
       "    <tr>\n",
       "      <th>ADBE</th>\n",
       "      <td>0.000492</td>\n",
       "      <td>0.024225</td>\n",
       "      <td>-0.686369</td>\n",
       "      <td>8.784705</td>\n",
       "    </tr>\n",
       "    <tr>\n",
       "      <th>CMG</th>\n",
       "      <td>0.000990</td>\n",
       "      <td>0.022293</td>\n",
       "      <td>0.347624</td>\n",
       "      <td>7.776201</td>\n",
       "    </tr>\n",
       "  </tbody>\n",
       "</table>\n",
       "</div>"
      ],
      "text/plain": [
       "          mean        sd  skewness  excess kurtosis\n",
       "ADBE  0.000492  0.024225 -0.686369         8.784705\n",
       "CMG   0.000990  0.022293  0.347624         7.776201"
      ]
     },
     "execution_count": 26,
     "metadata": {},
     "output_type": "execute_result"
    }
   ],
   "source": [
    "# Make a dataframe to store summary statistics\n",
    "sum_stats = pd.DataFrame({'mean':stockLogRetPair.mean(), 'sd': stockLogRetPair.std(), 'skewness':stockLogRetPair.skew(), 'excess kurtosis':stockLogRetPair.kurtosis()})\n",
    "sum_stats "
   ]
  },
  {
   "cell_type": "markdown",
   "metadata": {},
   "source": [
    "## Reward-to-Risk (RR)"
   ]
  },
  {
   "cell_type": "code",
   "execution_count": 27,
   "metadata": {},
   "outputs": [
    {
     "data": {
      "text/plain": [
       "ADBE    0.020308\n",
       "CMG     0.044415\n",
       "dtype: float64"
      ]
     },
     "execution_count": 27,
     "metadata": {},
     "output_type": "execute_result"
    }
   ],
   "source": [
    "# Calculate reward-to-risk statistics\n",
    "stockLogRetPair.mean()/stockLogRetPair.std()"
   ]
  }
 ],
 "metadata": {
  "kernelspec": {
   "display_name": "Python 3 (ipykernel)",
   "language": "python",
   "name": "python3"
  },
  "language_info": {
   "codemirror_mode": {
    "name": "ipython",
    "version": 3
   },
   "file_extension": ".py",
   "mimetype": "text/x-python",
   "name": "python",
   "nbconvert_exporter": "python",
   "pygments_lexer": "ipython3",
   "version": "3.10.9"
  },
  "toc": {
   "base_numbering": 1,
   "nav_menu": {},
   "number_sections": true,
   "sideBar": true,
   "skip_h1_title": true,
   "title_cell": "Table of Contents",
   "title_sidebar": "Contents",
   "toc_cell": false,
   "toc_position": {},
   "toc_section_display": true,
   "toc_window_display": true
  }
 },
 "nbformat": 4,
 "nbformat_minor": 2
}
